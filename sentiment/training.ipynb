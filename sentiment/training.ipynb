{
 "cells": [
  {
   "cell_type": "code",
   "execution_count": null,
   "metadata": {},
   "outputs": [],
   "source": [
    "'''\n",
    "จากบทความ \"ลองเล่น Sentiment Analysis\"\n",
    "โดย Nuipin Decimo\n",
    "https://bit.ly/3cMgR5a\n",
    "'''"
   ]
  },
  {
   "cell_type": "code",
   "execution_count": 2,
   "metadata": {},
   "outputs": [],
   "source": [
    "import deepcut\n",
    "import re\n",
    "import numpy as np\n",
    "from nltk import FreqDist, precision, recall, f_measure, NaiveBayesClassifier\n",
    "from nltk.classify import apply_features\n",
    "from nltk.classify import util\n",
    "from sklearn.model_selection import KFold\n",
    "import collections, itertools"
   ]
  },
  {
   "cell_type": "code",
   "execution_count": 3,
   "metadata": {},
   "outputs": [],
   "source": [
    "# Thai Sentiment Text Analysis\n",
    "# คลังข้อมูลสำหรับ Sentiment ภาษาไทย โดย นาย วรรณพงษ์ ภัททิยไพบูลย์\n",
    "# https://github.com/PyThaiNLP/lexicon-thai\n",
    "\n",
    "data_pos = [(line.strip(), 'pos') for line in open(\"pos.txt\", 'r')]\n",
    "data_neg = [(line.strip(), 'neg') for line in open(\"neg.txt\", 'r')]\n",
    "data_neutral = [(line.strip(), 'neutral') for line in open(\"neutral.txt\", 'r')]"
   ]
  },
  {
   "cell_type": "code",
   "execution_count": null,
   "metadata": {},
   "outputs": [],
   "source": []
  }
 ],
 "metadata": {
  "interpreter": {
   "hash": "aa2b4eadf805d27120a790f1141282b1eddd490204b31e8ad8571ddd24a2a23d"
  },
  "kernelspec": {
   "display_name": "Python 3.8.12 64-bit ('streaming': conda)",
   "language": "python",
   "name": "python3"
  },
  "language_info": {
   "codemirror_mode": {
    "name": "ipython",
    "version": 3
   },
   "file_extension": ".py",
   "mimetype": "text/x-python",
   "name": "python",
   "nbconvert_exporter": "python",
   "pygments_lexer": "ipython3",
   "version": "3.8.12"
  },
  "orig_nbformat": 4
 },
 "nbformat": 4,
 "nbformat_minor": 2
}
