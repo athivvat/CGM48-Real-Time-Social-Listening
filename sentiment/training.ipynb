{
 "cells": [
  {
   "cell_type": "code",
   "execution_count": 1,
   "metadata": {},
   "outputs": [
    {
     "data": {
      "text/plain": [
       "'\\nจากบทความ \"ลองเล่น Sentiment Analysis\"\\nโดย Nuipin Decimo\\nhttps://bit.ly/3cMgR5a\\n'"
      ]
     },
     "execution_count": 1,
     "metadata": {},
     "output_type": "execute_result"
    }
   ],
   "source": [
    "'''\n",
    "จากบทความ \"ลองเล่น Sentiment Analysis\"\n",
    "โดย Nuipin Decimo\n",
    "https://bit.ly/3cMgR5a\n",
    "'''"
   ]
  },
  {
   "cell_type": "code",
   "execution_count": 15,
   "metadata": {},
   "outputs": [],
   "source": [
    "# ใช้ตัดคำภาษาไทย\n",
    "import deepcut\n",
    "# ใช้งาน regex\n",
    "import re\n",
    "# จัดการเกี่ยวกับ array\n",
    "import numpy as np\n",
    "# สำหรับทำ classify และทดสอบโมเดล\n",
    "from nltk import FreqDist, precision, recall, f_measure, NaiveBayesClassifier\n",
    "from nltk.classify import apply_features\n",
    "from nltk.classify import util\n",
    "# สำหรับสร้างชุดข้อมูลสำหรับ train และ test เพื่อทดสอบประสิทธิภาพ\n",
    "from sklearn.model_selection import KFold\n",
    "import collections, itertools\n",
    "# for save model\n",
    "import pickle"
   ]
  },
  {
   "cell_type": "code",
   "execution_count": 7,
   "metadata": {},
   "outputs": [],
   "source": [
    "# Thai Sentiment Text Analysis\n",
    "# คลังข้อมูลสำหรับ Sentiment ภาษาไทย โดย นาย วรรณพงษ์ ภัททิยไพบูลย์\n",
    "# https://github.com/PyThaiNLP/lexicon-thai\n",
    "\n",
    "data_pos = [(line.strip(), 'pos') for line in open(\"pos.txt\", 'r', encoding=\"utf8\")]\n",
    "data_neg = [(line.strip(), 'neg') for line in open(\"neg.txt\", 'r', encoding=\"utf8\")]\n",
    "data_neutral = [(line.strip(), 'neutral') for line in open(\"neutral.txt\", 'r', encoding=\"utf8\")]"
   ]
  },
  {
   "cell_type": "code",
   "execution_count": 9,
   "metadata": {},
   "outputs": [],
   "source": [
    "def split_words (sentence):\n",
    "    return deepcut.tokenize(''.join(sentence.lower().split()))\n",
    "sentences = [(split_words(sentence), sentiment) for (sentence, sentiment) in data_pos + data_neg]"
   ]
  },
  {
   "cell_type": "code",
   "execution_count": 10,
   "metadata": {},
   "outputs": [],
   "source": [
    "def get_words_in_sentences(sentences):\n",
    "    all_words = []\n",
    "    for (words, sentiment) in sentences:\n",
    "        all_words.extend(words)\n",
    "    return all_words"
   ]
  },
  {
   "cell_type": "code",
   "execution_count": 11,
   "metadata": {},
   "outputs": [],
   "source": [
    "def get_word_features(wordlist):\n",
    "    wordlist = FreqDist(wordlist)\n",
    "    word_features = [word[0] for word in wordlist.most_common()]\n",
    "    return word_features"
   ]
  },
  {
   "cell_type": "code",
   "execution_count": 13,
   "metadata": {},
   "outputs": [],
   "source": [
    "def extract_features(document):\n",
    "    document_words = set(document)\n",
    "    features = {}\n",
    "    for word in word_features:\n",
    "        features['contains(%s)' % word] = (word in document_words)\n",
    "    return features"
   ]
  },
  {
   "cell_type": "code",
   "execution_count": 16,
   "metadata": {},
   "outputs": [
    {
     "name": "stderr",
     "output_type": "stream",
     "text": [
      "C:\\Users\\porntip.k\\AppData\\Local\\Temp/ipykernel_12660/2909416455.py:1: VisibleDeprecationWarning: Creating an ndarray from ragged nested sequences (which is a list-or-tuple of lists-or-tuples-or ndarrays with different lengths or shapes) is deprecated. If you meant to do this, you must specify 'dtype=object' when creating the ndarray.\n",
      "  features_data = np.array(sentences)\n"
     ]
    },
    {
     "name": "stdout",
     "output_type": "stream",
     "text": [
      "train: 956 test: 107\n",
      "=================== Results ===================\n",
      "Accuracy 0.728972\n",
      "            Positive     Negative\n",
      "F1         [0.602740     0.794326]\n",
      "Precision  [0.916667     0.674699]\n",
      "Recall     [0.448980     0.965517]\n",
      "===============================================\n",
      "\n",
      "train: 956 test: 107\n",
      "=================== Results ===================\n",
      "Accuracy 0.785047\n",
      "            Positive     Negative\n",
      "F1         [0.741573     0.816000]\n",
      "Precision  [0.804878     0.772727]\n",
      "Recall     [0.687500     0.864407]\n",
      "===============================================\n",
      "\n",
      "train: 956 test: 107\n",
      "=================== Results ===================\n",
      "Accuracy 0.747664\n",
      "            Positive     Negative\n",
      "F1         [0.666667     0.796992]\n",
      "Precision  [0.964286     0.670886]\n",
      "Recall     [0.509434     0.981481]\n",
      "===============================================\n",
      "\n",
      "train: 957 test: 106\n",
      "=================== Results ===================\n",
      "Accuracy 0.735849\n",
      "            Positive     Negative\n",
      "F1         [0.611111     0.800000]\n",
      "Precision  [0.846154     0.700000]\n",
      "Recall     [0.478261     0.933333]\n",
      "===============================================\n",
      "\n",
      "train: 957 test: 106\n",
      "=================== Results ===================\n",
      "Accuracy 0.801887\n",
      "            Positive     Negative\n",
      "F1         [0.727273     0.844444]\n",
      "Precision  [0.933333     0.750000]\n",
      "Recall     [0.595745     0.966102]\n",
      "===============================================\n",
      "\n",
      "train: 957 test: 106\n",
      "=================== Results ===================\n",
      "Accuracy 0.839623\n",
      "            Positive     Negative\n",
      "F1         [0.760563     0.879433]\n",
      "Precision  [0.931034     0.805195]\n",
      "Recall     [0.642857     0.968750]\n",
      "===============================================\n",
      "\n",
      "train: 957 test: 106\n",
      "=================== Results ===================\n",
      "Accuracy 0.783019\n",
      "            Positive     Negative\n",
      "F1         [0.676056     0.836879]\n",
      "Precision  [1.000000     0.719512]\n",
      "Recall     [0.510638     1.000000]\n",
      "===============================================\n",
      "\n",
      "train: 957 test: 106\n",
      "=================== Results ===================\n",
      "Accuracy 0.792453\n",
      "            Positive     Negative\n",
      "F1         [0.738095     0.828125]\n",
      "Precision  [0.861111     0.757143]\n",
      "Recall     [0.645833     0.913793]\n",
      "===============================================\n",
      "\n",
      "train: 957 test: 106\n",
      "=================== Results ===================\n",
      "Accuracy 0.811321\n",
      "            Positive     Negative\n",
      "F1         [0.696970     0.863014]\n",
      "Precision  [0.958333     0.768293]\n",
      "Recall     [0.547619     0.984375]\n",
      "===============================================\n",
      "\n",
      "train: 957 test: 106\n",
      "=================== Results ===================\n",
      "Accuracy 0.830189\n",
      "            Positive     Negative\n",
      "F1         [0.780488     0.861538]\n",
      "Precision  [0.864865     0.811594]\n",
      "Recall     [0.711111     0.918033]\n",
      "===============================================\n",
      "\n"
     ]
    }
   ],
   "source": [
    "features_data = np.array(sentences)\n",
    "# แบ่งข้อมูลเป็น 10 ชุด โดยไม่เรียง\n",
    "k_fold = KFold(n_splits=10, random_state=1992, shuffle=True)\n",
    "word_features = None\n",
    "accuracy_scores = []\n",
    "for train_set, test_set in k_fold.split(features_data):\n",
    "    word_features = get_word_features(get_words_in_sentences(features_data[train_set].tolist()))\n",
    "    train_features = apply_features(extract_features, features_data[train_set].tolist())\n",
    "    test_features = apply_features(extract_features, features_data[test_set].tolist())\n",
    "    classifier = NaiveBayesClassifier.train(train_features)\n",
    "    refsets = collections.defaultdict(set)\n",
    "    testsets = collections.defaultdict(set)\n",
    "    for i, (feats, label) in enumerate(test_features):\n",
    "        refsets[label].add(i)\n",
    "        observed = classifier.classify(feats)\n",
    "        testsets[observed].add(i)\n",
    "    accuracy_score = util.accuracy(classifier, test_features)\n",
    "    print('train: {} test: {}'.format(len(train_set), len(test_set)))\n",
    "    print('=================== Results ===================')\n",
    "    print('Accuracy {:f}'.format(accuracy_score))\n",
    "    print('            Positive     Negative')\n",
    "    print('F1         [{:f}     {:f}]'.format(\n",
    "        f_measure(refsets['pos'], testsets['pos']),\n",
    "        f_measure(refsets['neg'], testsets['neg'])\n",
    "    ))\n",
    "    print('Precision  [{:f}     {:f}]'.format(\n",
    "        precision(refsets['pos'], testsets['pos']),\n",
    "        precision(refsets['neg'], testsets['neg'])\n",
    "    ))\n",
    "    print('Recall     [{:f}     {:f}]'.format(\n",
    "        recall(refsets['pos'], testsets['pos']),\n",
    "        recall(refsets['neg'], testsets['neg'])\n",
    "    ))\n",
    "    print('===============================================\\n')\n",
    "    f = open('my_classifier.pickle', 'wb')\n",
    "    pickle.dump(classifier, f)\n",
    "    f.close()"
   ]
  },
  {
   "cell_type": "code",
   "execution_count": null,
   "metadata": {},
   "outputs": [],
   "source": []
  }
 ],
 "metadata": {
  "interpreter": {
   "hash": "aa2b4eadf805d27120a790f1141282b1eddd490204b31e8ad8571ddd24a2a23d"
  },
  "kernelspec": {
   "display_name": "Python 3.8.12 64-bit ('streaming': conda)",
   "language": "python",
   "name": "python3"
  },
  "language_info": {
   "codemirror_mode": {
    "name": "ipython",
    "version": 3
   },
   "file_extension": ".py",
   "mimetype": "text/x-python",
   "name": "python",
   "nbconvert_exporter": "python",
   "pygments_lexer": "ipython3",
   "version": "3.9.8"
  },
  "orig_nbformat": 4
 },
 "nbformat": 4,
 "nbformat_minor": 2
}
