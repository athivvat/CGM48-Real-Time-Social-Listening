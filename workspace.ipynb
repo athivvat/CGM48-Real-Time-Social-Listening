{
 "cells": [
  {
   "cell_type": "code",
   "execution_count": 1,
   "metadata": {},
   "outputs": [],
   "source": [
    "import pandas as pd"
   ]
  },
  {
   "cell_type": "code",
   "execution_count": 8,
   "metadata": {},
   "outputs": [],
   "source": [
    "df = pd.read_csv('dashboard/assets/cgm48members.csv')"
   ]
  },
  {
   "cell_type": "code",
   "execution_count": 9,
   "metadata": {},
   "outputs": [
    {
     "data": {
      "text/html": [
       "<div>\n",
       "<style scoped>\n",
       "    .dataframe tbody tr th:only-of-type {\n",
       "        vertical-align: middle;\n",
       "    }\n",
       "\n",
       "    .dataframe tbody tr th {\n",
       "        vertical-align: top;\n",
       "    }\n",
       "\n",
       "    .dataframe thead th {\n",
       "        text-align: right;\n",
       "    }\n",
       "</style>\n",
       "<table border=\"1\" class=\"dataframe\">\n",
       "  <thead>\n",
       "    <tr style=\"text-align: right;\">\n",
       "      <th></th>\n",
       "      <th>Name</th>\n",
       "      <th>Nickname</th>\n",
       "      <th>Age</th>\n",
       "      <th>Facebook</th>\n",
       "      <th>Facebook Link</th>\n",
       "      <th>Instagram</th>\n",
       "      <th>Instagram Link</th>\n",
       "      <th>Twitter Volume</th>\n",
       "      <th>Favorites</th>\n",
       "      <th>Retweets</th>\n",
       "      <th>Engagement Rate</th>\n",
       "      <th>Sentiment</th>\n",
       "    </tr>\n",
       "  </thead>\n",
       "  <tbody>\n",
       "    <tr>\n",
       "      <th>0</th>\n",
       "      <td>Napassanan Thambuacha</td>\n",
       "      <td>Angel</td>\n",
       "      <td>24</td>\n",
       "      <td>Angel CGM48</td>\n",
       "      <td>https://www.facebook.com/cgm48official.angel</td>\n",
       "      <td>@angel.cgm48official</td>\n",
       "      <td>https://www.instagram.com/angel.cgm48official/</td>\n",
       "      <td>-</td>\n",
       "      <td>-</td>\n",
       "      <td>-</td>\n",
       "      <td>-</td>\n",
       "      <td>-</td>\n",
       "    </tr>\n",
       "    <tr>\n",
       "      <th>1</th>\n",
       "      <td>Punyawee Jungcharoen</td>\n",
       "      <td>Aom</td>\n",
       "      <td>24</td>\n",
       "      <td>Aom BNK48</td>\n",
       "      <td>https://www.facebook.com/cgm48official.aom</td>\n",
       "      <td>@aom.cgm48</td>\n",
       "      <td>https://www.instagram.com/aom.cgm48</td>\n",
       "      <td>-</td>\n",
       "      <td>-</td>\n",
       "      <td>-</td>\n",
       "      <td>-</td>\n",
       "      <td>-</td>\n",
       "    </tr>\n",
       "  </tbody>\n",
       "</table>\n",
       "</div>"
      ],
      "text/plain": [
       "                    Name Nickname  Age     Facebook  \\\n",
       "0  Napassanan Thambuacha    Angel   24  Angel CGM48   \n",
       "1   Punyawee Jungcharoen      Aom   24    Aom BNK48   \n",
       "\n",
       "                                  Facebook Link             Instagram  \\\n",
       "0  https://www.facebook.com/cgm48official.angel  @angel.cgm48official   \n",
       "1    https://www.facebook.com/cgm48official.aom            @aom.cgm48   \n",
       "\n",
       "                                   Instagram Link Twitter Volume Favorites  \\\n",
       "0  https://www.instagram.com/angel.cgm48official/              -         -   \n",
       "1             https://www.instagram.com/aom.cgm48              -         -   \n",
       "\n",
       "  Retweets Engagement Rate Sentiment  \n",
       "0        -               -         -  \n",
       "1        -               -         -  "
      ]
     },
     "execution_count": 9,
     "metadata": {},
     "output_type": "execute_result"
    }
   ],
   "source": [
    "df"
   ]
  },
  {
   "cell_type": "code",
   "execution_count": null,
   "metadata": {},
   "outputs": [],
   "source": []
  }
 ],
 "metadata": {
  "interpreter": {
   "hash": "aa2b4eadf805d27120a790f1141282b1eddd490204b31e8ad8571ddd24a2a23d"
  },
  "kernelspec": {
   "display_name": "Python 3.8.12 64-bit ('streaming': conda)",
   "language": "python",
   "name": "python3"
  },
  "language_info": {
   "codemirror_mode": {
    "name": "ipython",
    "version": 3
   },
   "file_extension": ".py",
   "mimetype": "text/x-python",
   "name": "python",
   "nbconvert_exporter": "python",
   "pygments_lexer": "ipython3",
   "version": "3.8.12"
  },
  "orig_nbformat": 4
 },
 "nbformat": 4,
 "nbformat_minor": 2
}
